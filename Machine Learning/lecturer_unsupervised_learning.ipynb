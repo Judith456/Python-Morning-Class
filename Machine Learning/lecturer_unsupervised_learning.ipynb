{
 "cells": [
  {
   "cell_type": "code",
   "execution_count": null,
   "id": "eb5c6bbb",
   "metadata": {},
   "outputs": [],
   "source": [
    "%pip install matplotlib"
   ]
  },
  {
   "cell_type": "code",
   "execution_count": null,
   "id": "6aadbd29",
   "metadata": {},
   "outputs": [],
   "source": [
    "%pip install scikit-learn \n"
   ]
  },
  {
   "cell_type": "code",
   "execution_count": null,
   "id": "37b271f6",
   "metadata": {},
   "outputs": [],
   "source": [
    "%pip install seaborn"
   ]
  },
  {
   "cell_type": "code",
   "execution_count": null,
   "id": "fd8dabdf",
   "metadata": {},
   "outputs": [],
   "source": [
    "import pandas as pd\n",
    "import matplotlib.pyplot as plt\n",
    "from sklearn.cluster import KMeans\n",
    "import seaborn as sns"
   ]
  },
  {
   "cell_type": "code",
   "execution_count": null,
   "id": "427568d6",
   "metadata": {},
   "outputs": [],
   "source": [
    "import pandas as pd\n",
    "\n",
    "data = {\n",
    "    'CustomerID': [1, 2, 3, 4, 5, 6, 7, 8, 9, 10],\n",
    "    'Annual_Income_(USD$)': [15, 16, 17, 18, 19, 80, 86, 87, 88, 90],  \n",
    "    'Spending_Score_(1-100)': [38, 81, 6, 77, 40, 76, 94, 3, 72, 14]\n",
    "}\n",
    "\n",
    "df = pd.DataFrame(data)\n",
    "print(df)\n"
   ]
  },
  {
   "cell_type": "code",
   "execution_count": null,
   "id": "7079b787",
   "metadata": {},
   "outputs": [],
   "source": [
    "# Select feature for clustering\n",
    "x=df[['Annual_Income_(USD$)', 'Spending_Score_(1-100)']]\n",
    "\n"
   ]
  },
  {
   "cell_type": "code",
   "execution_count": null,
   "id": "8088cda3",
   "metadata": {},
   "outputs": [],
   "source": [
    "kmeans=KMeans(n_clusters=2,random_state=0)\n",
    "kmeans.fit(x)"
   ]
  },
  {
   "cell_type": "code",
   "execution_count": null,
   "id": "c94ae44e",
   "metadata": {},
   "outputs": [],
   "source": [
    "df['cluster']=kmeans.labels_\n",
    "df"
   ]
  },
  {
   "cell_type": "code",
   "execution_count": null,
   "id": "4256f4d0",
   "metadata": {},
   "outputs": [],
   "source": [
    "plt.figure(figsize=(15,12))\n",
    "sns.scatterplot(data=df,x='Annual_Income_(USD$)',y='Spending_Score_(1-100)',hue='cluster')\n",
    "\n",
    "plt.title('Customer CLusters based on Income&Spending')\n",
    "\n",
    "plt.xlabel('Annual_Income_(USD$)')\n",
    "plt.ylabel('Spending_score_(1-100)')\n",
    "plt.show()"
   ]
  }
 ],
 "metadata": {
  "kernelspec": {
   "display_name": "base",
   "language": "python",
   "name": "python3"
  },
  "language_info": {
   "codemirror_mode": {
    "name": "ipython",
    "version": 3
   },
   "file_extension": ".py",
   "mimetype": "text/x-python",
   "name": "python",
   "nbconvert_exporter": "python",
   "pygments_lexer": "ipython3",
   "version": "3.12.7"
  }
 },
 "nbformat": 4,
 "nbformat_minor": 5
}
