{
 "cells": [
  {
   "cell_type": "code",
   "execution_count": null,
   "id": "aa69e42c",
   "metadata": {},
   "outputs": [],
   "source": [
    "#Handle missing data\n",
    "#Gender  Male  = 0  Female = 1"
   ]
  }
 ],
 "metadata": {
  "language_info": {
   "name": "python"
  }
 },
 "nbformat": 4,
 "nbformat_minor": 5
}
