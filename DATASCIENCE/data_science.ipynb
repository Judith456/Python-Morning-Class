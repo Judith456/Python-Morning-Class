{
 "cells": [
  {
   "cell_type": "code",
   "execution_count": 12,
   "id": "326396bc",
   "metadata": {},
   "outputs": [
    {
     "name": "stdout",
     "output_type": "stream",
     "text": [
      "Data Science Learning\n"
     ]
    }
   ],
   "source": [
    "print(\"Data Science Learning\")"
   ]
  },
  {
   "cell_type": "code",
   "execution_count": null,
   "id": "32e154cb",
   "metadata": {},
   "outputs": [],
   "source": [
    "#reading a file\n",
    "file = open(\"demo.txt\", \"r\") #r is a read mode\n"
   ]
  },
  {
   "cell_type": "code",
   "execution_count": 11,
   "id": "06fe9d79",
   "metadata": {},
   "outputs": [
    {
     "name": "stdout",
     "output_type": "stream",
     "text": [
      "This folder is named demo\n"
     ]
    }
   ],
   "source": [
    "content = file.read()\n",
    "print(content)\n",
    "file.close()"
   ]
  },
  {
   "cell_type": "code",
   "execution_count": 16,
   "id": "7d886f06",
   "metadata": {},
   "outputs": [],
   "source": [
    "#writing a file\n",
    "with open(\"Judith.txt\", \"w\") as file:\n",
    "    file.write(\"This is my file\")\n",
    "    file.write(\"\\nits for data science\")"
   ]
  },
  {
   "cell_type": "code",
   "execution_count": 19,
   "id": "bb2d0834",
   "metadata": {},
   "outputs": [
    {
     "name": "stdout",
     "output_type": "stream",
     "text": [
      "This is my file\n",
      "its for data science\n",
      "Python is fun\n",
      "This is appended line\n"
     ]
    }
   ],
   "source": [
    "#Appending\n",
    "with open(\"Judith.txt\", \"a\") as file:\n",
    "    file.write(\"\\nThis is appended line\")\n",
    "    \n",
    "with open(\"Judith.txt\", \"r\") as file:\n",
    "   content = file.read()\n",
    "   print(content)\n",
    "   file.close"
   ]
  }
 ],
 "metadata": {
  "kernelspec": {
   "display_name": "base",
   "language": "python",
   "name": "python3"
  },
  "language_info": {
   "codemirror_mode": {
    "name": "ipython",
    "version": 3
   },
   "file_extension": ".py",
   "mimetype": "text/x-python",
   "name": "python",
   "nbconvert_exporter": "python",
   "pygments_lexer": "ipython3",
   "version": "3.12.7"
  }
 },
 "nbformat": 4,
 "nbformat_minor": 5
}
